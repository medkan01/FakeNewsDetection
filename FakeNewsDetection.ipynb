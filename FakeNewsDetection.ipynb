{
 "cells": [
  {
   "cell_type": "markdown",
   "id": "b9fb9ee2-c94f-45ad-9e74-7cd1b3882831",
   "metadata": {},
   "source": [
    "### Importation des librairies"
   ]
  },
  {
   "cell_type": "code",
   "execution_count": 1,
   "id": "c8394136-8675-42cc-987f-40088d2079e3",
   "metadata": {},
   "outputs": [],
   "source": [
    "import numpy as np\n",
    "import pandas as pd\n",
    "import matplotlib.pyplot as plt\n",
    "import seaborn as sns\n",
    "import itertools\n",
    "from sklearn.model_selection import train_test_split\n",
    "from sklearn.feature_extraction.text import TfidfVectorizer\n",
    "from sklearn.linear_model import PassiveAggressiveClassifier\n",
    "from sklearn.metrics import accuracy_score, confusion_matrix"
   ]
  },
  {
   "cell_type": "markdown",
   "id": "354b9e23-6c01-4fe1-b92e-144d0cc92776",
   "metadata": {},
   "source": [
    "### Récupération des données dans le fichier news.csv\n",
    "On en profite pour afficher les dimensions du dataframe et on affiche les cinq premières valeurs."
   ]
  },
  {
   "cell_type": "code",
   "execution_count": 2,
   "id": "40ed9139-ab94-4010-8f01-aec51c79c5c9",
   "metadata": {},
   "outputs": [
    {
     "name": "stdout",
     "output_type": "stream",
     "text": [
      "Shape:  (6335, 4) \n",
      "\n",
      "Dataset head: \n",
      "\n"
     ]
    },
    {
     "data": {
      "text/html": [
       "<div>\n",
       "<style scoped>\n",
       "    .dataframe tbody tr th:only-of-type {\n",
       "        vertical-align: middle;\n",
       "    }\n",
       "\n",
       "    .dataframe tbody tr th {\n",
       "        vertical-align: top;\n",
       "    }\n",
       "\n",
       "    .dataframe thead th {\n",
       "        text-align: right;\n",
       "    }\n",
       "</style>\n",
       "<table border=\"1\" class=\"dataframe\">\n",
       "  <thead>\n",
       "    <tr style=\"text-align: right;\">\n",
       "      <th></th>\n",
       "      <th>Unnamed: 0</th>\n",
       "      <th>title</th>\n",
       "      <th>text</th>\n",
       "      <th>label</th>\n",
       "    </tr>\n",
       "  </thead>\n",
       "  <tbody>\n",
       "    <tr>\n",
       "      <th>0</th>\n",
       "      <td>8476</td>\n",
       "      <td>You Can Smell Hillary’s Fear</td>\n",
       "      <td>Daniel Greenfield, a Shillman Journalism Fello...</td>\n",
       "      <td>FAKE</td>\n",
       "    </tr>\n",
       "    <tr>\n",
       "      <th>1</th>\n",
       "      <td>10294</td>\n",
       "      <td>Watch The Exact Moment Paul Ryan Committed Pol...</td>\n",
       "      <td>Google Pinterest Digg Linkedin Reddit Stumbleu...</td>\n",
       "      <td>FAKE</td>\n",
       "    </tr>\n",
       "    <tr>\n",
       "      <th>2</th>\n",
       "      <td>3608</td>\n",
       "      <td>Kerry to go to Paris in gesture of sympathy</td>\n",
       "      <td>U.S. Secretary of State John F. Kerry said Mon...</td>\n",
       "      <td>REAL</td>\n",
       "    </tr>\n",
       "    <tr>\n",
       "      <th>3</th>\n",
       "      <td>10142</td>\n",
       "      <td>Bernie supporters on Twitter erupt in anger ag...</td>\n",
       "      <td>— Kaydee King (@KaydeeKing) November 9, 2016 T...</td>\n",
       "      <td>FAKE</td>\n",
       "    </tr>\n",
       "    <tr>\n",
       "      <th>4</th>\n",
       "      <td>875</td>\n",
       "      <td>The Battle of New York: Why This Primary Matters</td>\n",
       "      <td>It's primary day in New York and front-runners...</td>\n",
       "      <td>REAL</td>\n",
       "    </tr>\n",
       "  </tbody>\n",
       "</table>\n",
       "</div>"
      ],
      "text/plain": [
       "   Unnamed: 0                                              title  \\\n",
       "0        8476                       You Can Smell Hillary’s Fear   \n",
       "1       10294  Watch The Exact Moment Paul Ryan Committed Pol...   \n",
       "2        3608        Kerry to go to Paris in gesture of sympathy   \n",
       "3       10142  Bernie supporters on Twitter erupt in anger ag...   \n",
       "4         875   The Battle of New York: Why This Primary Matters   \n",
       "\n",
       "                                                text label  \n",
       "0  Daniel Greenfield, a Shillman Journalism Fello...  FAKE  \n",
       "1  Google Pinterest Digg Linkedin Reddit Stumbleu...  FAKE  \n",
       "2  U.S. Secretary of State John F. Kerry said Mon...  REAL  \n",
       "3  — Kaydee King (@KaydeeKing) November 9, 2016 T...  FAKE  \n",
       "4  It's primary day in New York and front-runners...  REAL  "
      ]
     },
     "execution_count": 2,
     "metadata": {},
     "output_type": "execute_result"
    }
   ],
   "source": [
    "data = pd.read_csv(\"news.csv\");\n",
    "\n",
    "print(\"Shape: \", data.shape, \"\\n\")\n",
    "print(\"Dataset head: \\n\")\n",
    "data.head()"
   ]
  },
  {
   "cell_type": "markdown",
   "id": "2ac1ddff-d865-4d55-822d-39519d8bb7fc",
   "metadata": {},
   "source": [
    "### Récupération des labels"
   ]
  },
  {
   "cell_type": "code",
   "execution_count": 3,
   "id": "3b2007a6-0526-4d67-8986-0044a5a6acde",
   "metadata": {},
   "outputs": [
    {
     "name": "stdout",
     "output_type": "stream",
     "text": [
      "Shape:  (6335,) \n",
      "\n",
      "Dataset head: \n",
      "\n"
     ]
    },
    {
     "data": {
      "text/plain": [
       "0    FAKE\n",
       "1    FAKE\n",
       "2    REAL\n",
       "3    FAKE\n",
       "4    REAL\n",
       "Name: label, dtype: object"
      ]
     },
     "execution_count": 3,
     "metadata": {},
     "output_type": "execute_result"
    }
   ],
   "source": [
    "labels = data.label\n",
    "\n",
    "print(\"Shape: \", labels.shape, \"\\n\")\n",
    "print(\"Dataset head: \\n\")\n",
    "labels.head()"
   ]
  },
  {
   "cell_type": "markdown",
   "id": "c24124e2-0c1c-4424-9c79-17cb9d77ba4e",
   "metadata": {},
   "source": [
    "### Création des différentes variables de test de train avec train_test_split"
   ]
  },
  {
   "cell_type": "code",
   "execution_count": 4,
   "id": "c5ce6531-65c0-4ebe-883d-da017b95cfc5",
   "metadata": {},
   "outputs": [],
   "source": [
    "x_train, x_test, y_train, y_test = train_test_split(data['text'], labels, test_size=0.2, random_state=7)"
   ]
  },
  {
   "cell_type": "markdown",
   "id": "d3af432e-fb18-43c3-af73-0b2b10f8206a",
   "metadata": {},
   "source": [
    "### Initialisation d'un TF-IDF Vectorizer\n",
    "Les collections seront transformées en matrices TF-IDF. De plus, cela va permettre de filtrer les mots anglais les plus courants afin de garder une matrice avec les données du langage naturel."
   ]
  },
  {
   "cell_type": "code",
   "execution_count": 5,
   "id": "d7d96094-6862-406e-9093-61f94d5a499c",
   "metadata": {},
   "outputs": [],
   "source": [
    "tfidf_vect = TfidfVectorizer(stop_words='english', max_df=0.7)"
   ]
  },
  {
   "cell_type": "markdown",
   "id": "b3057b24-4234-4a37-bc15-e7fde99e3c92",
   "metadata": {},
   "source": [
    "### Transformation du train set et du test set"
   ]
  },
  {
   "cell_type": "code",
   "execution_count": 6,
   "id": "6e739d65-1700-41bb-8319-b40a5a9cdba5",
   "metadata": {},
   "outputs": [
    {
     "data": {
      "text/plain": [
       "(1267, 61651)"
      ]
     },
     "execution_count": 6,
     "metadata": {},
     "output_type": "execute_result"
    }
   ],
   "source": [
    "tf_train = tfidf_vect.fit_transform(x_train)\n",
    "tf_test = tfidf_vect.transform(x_test)\n",
    "tf_test.shape"
   ]
  },
  {
   "cell_type": "markdown",
   "id": "7c120547-03d3-467c-8a9a-a9655046eb3f",
   "metadata": {},
   "source": [
    "### Initialisation d'un PassiveAggressiveClassifier\n",
    "On test ensuite la précision du modèle."
   ]
  },
  {
   "cell_type": "code",
   "execution_count": 7,
   "id": "dfec0aca-7f1b-454d-a201-846923322a04",
   "metadata": {},
   "outputs": [
    {
     "name": "stdout",
     "output_type": "stream",
     "text": [
      "Précision: 92.11%\n"
     ]
    }
   ],
   "source": [
    "pa_c = PassiveAggressiveClassifier(max_iter=50)\n",
    "pa_c.fit(tf_train, y_train)\n",
    "\n",
    "y_pred = pa_c.predict(tf_test)\n",
    "score = accuracy_score(y_test, y_pred)\n",
    "print(f\"Précision: {round(score*100,2)}%\")"
   ]
  },
  {
   "cell_type": "markdown",
   "id": "8cac2e64-f04f-4b79-b741-ac1796bd8c7a",
   "metadata": {},
   "source": [
    "### Création d'une matrice de confusion"
   ]
  },
  {
   "cell_type": "code",
   "execution_count": 8,
   "id": "2c783730-d0eb-4881-b0a9-0edce5bf9458",
   "metadata": {},
   "outputs": [],
   "source": [
    "cm = confusion_matrix(y_test,y_pred, labels=['FAKE','REAL'])"
   ]
  },
  {
   "cell_type": "markdown",
   "id": "b6c5151d-35d4-4fa4-bffe-58f6cb2dd06c",
   "metadata": {},
   "source": [
    "### Pour pousser l'analyse un peu plus loin"
   ]
  },
  {
   "cell_type": "code",
   "execution_count": 10,
   "id": "229a1c14-bfe8-42e2-ad8b-baf222748187",
   "metadata": {},
   "outputs": [
    {
     "name": "stdout",
     "output_type": "stream",
     "text": [
      "[[585  53]\n",
      " [ 47 582]]\n"
     ]
    },
    {
     "data": {
      "text/plain": [
       "<AxesSubplot:>"
      ]
     },
     "execution_count": 10,
     "metadata": {},
     "output_type": "execute_result"
    },
    {
     "data": {
      "image/png": "[encoded data removed]",
      "text/plain": [
       "<Figure size 432x288 with 2 Axes>"
      ]
     },
     "metadata": {},
     "output_type": "display_data"
    }
   ],
   "source": [
    "sns.set()\n",
    "print(cm)\n",
    "sns.heatmap(cm, square=True, annot=True)"
   ]
  }
 ],
 "metadata": {
  "kernelspec": {
   "display_name": "Python 3",
   "language": "python",
   "name": "python3"
  },
  "language_info": {
   "codemirror_mode": {
    "name": "ipython",
    "version": 3
   },
   "file_extension": ".py",
   "mimetype": "text/x-python",
   "name": "python",
   "nbconvert_exporter": "python",
   "pygments_lexer": "ipython3",
   "version": "3.8.8"
  }
 },
 "nbformat": 4,
 "nbformat_minor": 5
}
